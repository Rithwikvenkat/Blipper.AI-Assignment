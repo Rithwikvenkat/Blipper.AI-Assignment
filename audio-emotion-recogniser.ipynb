{
 "cells": [
  {
   "cell_type": "code",
   "execution_count": 1,
   "id": "2556a474",
   "metadata": {
    "execution": {
     "iopub.execute_input": "2023-10-19T12:35:40.549739Z",
     "iopub.status.busy": "2023-10-19T12:35:40.549395Z",
     "iopub.status.idle": "2023-10-19T12:35:42.264572Z",
     "shell.execute_reply": "2023-10-19T12:35:42.263922Z"
    },
    "papermill": {
     "duration": 1.721404,
     "end_time": "2023-10-19T12:35:42.266742",
     "exception": false,
     "start_time": "2023-10-19T12:35:40.545338",
     "status": "completed"
    },
    "tags": []
   },
   "outputs": [
    {
     "name": "stderr",
     "output_type": "stream",
     "text": [
      "/opt/conda/lib/python3.10/site-packages/scipy/__init__.py:146: UserWarning: A NumPy version >=1.16.5 and <1.23.0 is required for this version of SciPy (detected version 1.23.5\n",
      "  warnings.warn(f\"A NumPy version >={np_minversion} and <{np_maxversion}\"\n"
     ]
    }
   ],
   "source": [
    "import pandas as pd \n",
    "import numpy as np \n",
    "import pickle\n",
    "\n",
    "import librosa\n",
    "import librosa.display\n",
    "\n",
    "from IPython.display import Audio\n",
    "\n",
    "from xgboost import XGBClassifier\n",
    "\n",
    "from sklearn.model_selection import train_test_split\n",
    "from sklearn.metrics import accuracy_score , precision_score , recall_score , f1_score , classification_report , confusion_matrix"
   ]
  },
  {
   "cell_type": "code",
   "execution_count": 2,
   "id": "795e1ca5",
   "metadata": {
    "execution": {
     "iopub.execute_input": "2023-10-19T12:35:42.272568Z",
     "iopub.status.busy": "2023-10-19T12:35:42.272213Z",
     "iopub.status.idle": "2023-10-19T12:35:42.299420Z",
     "shell.execute_reply": "2023-10-19T12:35:42.298708Z"
    },
    "papermill": {
     "duration": 0.031709,
     "end_time": "2023-10-19T12:35:42.300952",
     "exception": false,
     "start_time": "2023-10-19T12:35:42.269243",
     "status": "completed"
    },
    "tags": []
   },
   "outputs": [
    {
     "data": {
      "text/html": [
       "<div>\n",
       "<style scoped>\n",
       "    .dataframe tbody tr th:only-of-type {\n",
       "        vertical-align: middle;\n",
       "    }\n",
       "\n",
       "    .dataframe tbody tr th {\n",
       "        vertical-align: top;\n",
       "    }\n",
       "\n",
       "    .dataframe thead th {\n",
       "        text-align: right;\n",
       "    }\n",
       "</style>\n",
       "<table border=\"1\" class=\"dataframe\">\n",
       "  <thead>\n",
       "    <tr style=\"text-align: right;\">\n",
       "      <th></th>\n",
       "      <th>Emotions</th>\n",
       "      <th>Path</th>\n",
       "    </tr>\n",
       "  </thead>\n",
       "  <tbody>\n",
       "    <tr>\n",
       "      <th>0</th>\n",
       "      <td>1</td>\n",
       "      <td>/kaggle/input/ravdess-emotional-speech-audio/a...</td>\n",
       "    </tr>\n",
       "    <tr>\n",
       "      <th>1</th>\n",
       "      <td>0</td>\n",
       "      <td>/kaggle/input/ravdess-emotional-speech-audio/a...</td>\n",
       "    </tr>\n",
       "    <tr>\n",
       "      <th>2</th>\n",
       "      <td>0</td>\n",
       "      <td>/kaggle/input/ravdess-emotional-speech-audio/a...</td>\n",
       "    </tr>\n",
       "    <tr>\n",
       "      <th>3</th>\n",
       "      <td>1</td>\n",
       "      <td>/kaggle/input/ravdess-emotional-speech-audio/a...</td>\n",
       "    </tr>\n",
       "    <tr>\n",
       "      <th>4</th>\n",
       "      <td>0</td>\n",
       "      <td>/kaggle/input/ravdess-emotional-speech-audio/a...</td>\n",
       "    </tr>\n",
       "  </tbody>\n",
       "</table>\n",
       "</div>"
      ],
      "text/plain": [
       "   Emotions                                               Path\n",
       "0         1  /kaggle/input/ravdess-emotional-speech-audio/a...\n",
       "1         0  /kaggle/input/ravdess-emotional-speech-audio/a...\n",
       "2         0  /kaggle/input/ravdess-emotional-speech-audio/a...\n",
       "3         1  /kaggle/input/ravdess-emotional-speech-audio/a...\n",
       "4         0  /kaggle/input/ravdess-emotional-speech-audio/a..."
      ]
     },
     "execution_count": 2,
     "metadata": {},
     "output_type": "execute_result"
    }
   ],
   "source": [
    "data_path = pd.read_csv('/kaggle/input/happysad/dataset.csv')\n",
    "data_path.head()"
   ]
  },
  {
   "cell_type": "code",
   "execution_count": 3,
   "id": "7b428e0a",
   "metadata": {
    "execution": {
     "iopub.execute_input": "2023-10-19T12:35:42.306661Z",
     "iopub.status.busy": "2023-10-19T12:35:42.306447Z",
     "iopub.status.idle": "2023-10-19T12:35:42.315650Z",
     "shell.execute_reply": "2023-10-19T12:35:42.314939Z"
    },
    "papermill": {
     "duration": 0.014164,
     "end_time": "2023-10-19T12:35:42.317341",
     "exception": false,
     "start_time": "2023-10-19T12:35:42.303177",
     "status": "completed"
    },
    "tags": []
   },
   "outputs": [],
   "source": [
    "class AudioFeatureExtractor:\n",
    "    def __init__(self):\n",
    "        pass\n",
    "    \n",
    "    def noise(self, data):\n",
    "        noise_amp = 0.035*np.random.uniform()*np.amax(data)\n",
    "        data = data + noise_amp*np.random.normal(size=data.shape[0])\n",
    "        return data\n",
    "\n",
    "    def stretch(self, data, rate=0.8):\n",
    "        return librosa.effects.time_stretch(data, rate=rate)\n",
    "\n",
    "    def shift(self, data):\n",
    "        shift_range = int(np.random.uniform(low=-5, high=5)*1000)\n",
    "        return np.roll(data, shift_range)\n",
    "\n",
    "    def pitch(self, data, sampling_rate, pitch_factor=0.7):\n",
    "        return librosa.effects.pitch_shift(data, sr=sampling_rate, n_steps=pitch_factor)\n",
    "\n",
    "    def extract_features(self, data, sample_rate):\n",
    "        result = np.array([])\n",
    "\n",
    "        zcr = np.mean(librosa.feature.zero_crossing_rate(y=data).T, axis=0)\n",
    "        result = np.hstack((result, zcr))\n",
    "\n",
    "        stft = np.abs(librosa.stft(data))\n",
    "        chroma_stft = np.mean(librosa.feature.chroma_stft(S=stft, sr=sample_rate).T, axis=0)\n",
    "        result = np.hstack((result, chroma_stft))\n",
    "\n",
    "        mfcc = np.mean(librosa.feature.mfcc(y=data, sr=sample_rate).T, axis=0)\n",
    "        result = np.hstack((result, mfcc))\n",
    "\n",
    "        rms = np.mean(librosa.feature.rms(y=data).T, axis=0)\n",
    "        result = np.hstack((result, rms))\n",
    "\n",
    "        mel = np.mean(librosa.feature.melspectrogram(y=data, sr=sample_rate).T, axis=0)\n",
    "        result = np.hstack((result, mel))\n",
    "\n",
    "        return result\n",
    "\n",
    "    def get_features(self, path):\n",
    "        data, sample_rate = librosa.load(path, duration=2.5, offset=0.6)\n",
    "        res1 = self.extract_features(data, sample_rate)\n",
    "\n",
    "        noise_data = self.noise(data)\n",
    "        res2 = self.extract_features(noise_data, sample_rate)\n",
    "\n",
    "        new_data = self.stretch(data)\n",
    "        data_stretch_pitch = self.pitch(new_data, sample_rate)\n",
    "        res3 = self.extract_features(data_stretch_pitch, sample_rate)\n",
    "\n",
    "        return np.vstack((res1, res2, res3))"
   ]
  },
  {
   "cell_type": "code",
   "execution_count": 4,
   "id": "cd257f0b",
   "metadata": {
    "execution": {
     "iopub.execute_input": "2023-10-19T12:35:42.322465Z",
     "iopub.status.busy": "2023-10-19T12:35:42.322237Z",
     "iopub.status.idle": "2023-10-19T12:37:52.487026Z",
     "shell.execute_reply": "2023-10-19T12:37:52.485912Z"
    },
    "papermill": {
     "duration": 130.176627,
     "end_time": "2023-10-19T12:37:52.496060",
     "exception": false,
     "start_time": "2023-10-19T12:35:42.319433",
     "status": "completed"
    },
    "tags": []
   },
   "outputs": [
    {
     "data": {
      "text/plain": [
       "(1152, 1152)"
      ]
     },
     "execution_count": 4,
     "metadata": {},
     "output_type": "execute_result"
    }
   ],
   "source": [
    "# Example Usage\n",
    "extractor = AudioFeatureExtractor()\n",
    "\n",
    "X, Y = [], []\n",
    "for path, emotion in zip(data_path.Path, data_path.Emotions):\n",
    "    features = extractor.get_features(path)\n",
    "    X.extend(features)\n",
    "    Y.extend([emotion]*len(features))\n",
    "    \n",
    "len(X) , len(Y)"
   ]
  },
  {
   "cell_type": "code",
   "execution_count": 5,
   "id": "03af0083",
   "metadata": {
    "execution": {
     "iopub.execute_input": "2023-10-19T12:37:52.510336Z",
     "iopub.status.busy": "2023-10-19T12:37:52.509634Z",
     "iopub.status.idle": "2023-10-19T12:37:52.933987Z",
     "shell.execute_reply": "2023-10-19T12:37:52.933072Z"
    },
    "papermill": {
     "duration": 0.43363,
     "end_time": "2023-10-19T12:37:52.935886",
     "exception": false,
     "start_time": "2023-10-19T12:37:52.502256",
     "status": "completed"
    },
    "tags": []
   },
   "outputs": [
    {
     "data": {
      "text/html": [
       "<div>\n",
       "<style scoped>\n",
       "    .dataframe tbody tr th:only-of-type {\n",
       "        vertical-align: middle;\n",
       "    }\n",
       "\n",
       "    .dataframe tbody tr th {\n",
       "        vertical-align: top;\n",
       "    }\n",
       "\n",
       "    .dataframe thead th {\n",
       "        text-align: right;\n",
       "    }\n",
       "</style>\n",
       "<table border=\"1\" class=\"dataframe\">\n",
       "  <thead>\n",
       "    <tr style=\"text-align: right;\">\n",
       "      <th></th>\n",
       "      <th>0</th>\n",
       "      <th>1</th>\n",
       "      <th>2</th>\n",
       "      <th>3</th>\n",
       "      <th>4</th>\n",
       "      <th>5</th>\n",
       "      <th>6</th>\n",
       "      <th>7</th>\n",
       "      <th>8</th>\n",
       "      <th>9</th>\n",
       "      <th>...</th>\n",
       "      <th>153</th>\n",
       "      <th>154</th>\n",
       "      <th>155</th>\n",
       "      <th>156</th>\n",
       "      <th>157</th>\n",
       "      <th>158</th>\n",
       "      <th>159</th>\n",
       "      <th>160</th>\n",
       "      <th>161</th>\n",
       "      <th>labels</th>\n",
       "    </tr>\n",
       "  </thead>\n",
       "  <tbody>\n",
       "    <tr>\n",
       "      <th>0</th>\n",
       "      <td>0.208293</td>\n",
       "      <td>0.506897</td>\n",
       "      <td>0.422292</td>\n",
       "      <td>0.393062</td>\n",
       "      <td>0.495781</td>\n",
       "      <td>0.443630</td>\n",
       "      <td>0.374513</td>\n",
       "      <td>0.397753</td>\n",
       "      <td>0.549603</td>\n",
       "      <td>0.739099</td>\n",
       "      <td>...</td>\n",
       "      <td>0.000082</td>\n",
       "      <td>0.000154</td>\n",
       "      <td>0.000076</td>\n",
       "      <td>0.000132</td>\n",
       "      <td>0.000095</td>\n",
       "      <td>0.000066</td>\n",
       "      <td>0.000079</td>\n",
       "      <td>0.000029</td>\n",
       "      <td>0.000003</td>\n",
       "      <td>1</td>\n",
       "    </tr>\n",
       "    <tr>\n",
       "      <th>1</th>\n",
       "      <td>0.278985</td>\n",
       "      <td>0.640704</td>\n",
       "      <td>0.580154</td>\n",
       "      <td>0.601300</td>\n",
       "      <td>0.680189</td>\n",
       "      <td>0.619322</td>\n",
       "      <td>0.555964</td>\n",
       "      <td>0.541476</td>\n",
       "      <td>0.690339</td>\n",
       "      <td>0.787897</td>\n",
       "      <td>...</td>\n",
       "      <td>0.000192</td>\n",
       "      <td>0.000270</td>\n",
       "      <td>0.000183</td>\n",
       "      <td>0.000243</td>\n",
       "      <td>0.000206</td>\n",
       "      <td>0.000179</td>\n",
       "      <td>0.000196</td>\n",
       "      <td>0.000140</td>\n",
       "      <td>0.000113</td>\n",
       "      <td>1</td>\n",
       "    </tr>\n",
       "    <tr>\n",
       "      <th>2</th>\n",
       "      <td>0.166753</td>\n",
       "      <td>0.541065</td>\n",
       "      <td>0.442284</td>\n",
       "      <td>0.418231</td>\n",
       "      <td>0.551849</td>\n",
       "      <td>0.446742</td>\n",
       "      <td>0.385239</td>\n",
       "      <td>0.432699</td>\n",
       "      <td>0.554014</td>\n",
       "      <td>0.748904</td>\n",
       "      <td>...</td>\n",
       "      <td>0.000013</td>\n",
       "      <td>0.000013</td>\n",
       "      <td>0.000027</td>\n",
       "      <td>0.000023</td>\n",
       "      <td>0.000023</td>\n",
       "      <td>0.000039</td>\n",
       "      <td>0.000020</td>\n",
       "      <td>0.000006</td>\n",
       "      <td>0.000001</td>\n",
       "      <td>1</td>\n",
       "    </tr>\n",
       "    <tr>\n",
       "      <th>3</th>\n",
       "      <td>0.252356</td>\n",
       "      <td>0.619311</td>\n",
       "      <td>0.588566</td>\n",
       "      <td>0.547787</td>\n",
       "      <td>0.569659</td>\n",
       "      <td>0.564923</td>\n",
       "      <td>0.583524</td>\n",
       "      <td>0.654390</td>\n",
       "      <td>0.730218</td>\n",
       "      <td>0.688710</td>\n",
       "      <td>...</td>\n",
       "      <td>0.000069</td>\n",
       "      <td>0.000064</td>\n",
       "      <td>0.000059</td>\n",
       "      <td>0.000052</td>\n",
       "      <td>0.000033</td>\n",
       "      <td>0.000047</td>\n",
       "      <td>0.000057</td>\n",
       "      <td>0.000026</td>\n",
       "      <td>0.000003</td>\n",
       "      <td>0</td>\n",
       "    </tr>\n",
       "    <tr>\n",
       "      <th>4</th>\n",
       "      <td>0.313915</td>\n",
       "      <td>0.727826</td>\n",
       "      <td>0.705622</td>\n",
       "      <td>0.738513</td>\n",
       "      <td>0.750247</td>\n",
       "      <td>0.718389</td>\n",
       "      <td>0.675212</td>\n",
       "      <td>0.733604</td>\n",
       "      <td>0.715832</td>\n",
       "      <td>0.698479</td>\n",
       "      <td>...</td>\n",
       "      <td>0.000714</td>\n",
       "      <td>0.000737</td>\n",
       "      <td>0.000697</td>\n",
       "      <td>0.000676</td>\n",
       "      <td>0.000668</td>\n",
       "      <td>0.000689</td>\n",
       "      <td>0.000699</td>\n",
       "      <td>0.000673</td>\n",
       "      <td>0.000661</td>\n",
       "      <td>0</td>\n",
       "    </tr>\n",
       "  </tbody>\n",
       "</table>\n",
       "<p>5 rows × 163 columns</p>\n",
       "</div>"
      ],
      "text/plain": [
       "          0         1         2         3         4         5         6  \\\n",
       "0  0.208293  0.506897  0.422292  0.393062  0.495781  0.443630  0.374513   \n",
       "1  0.278985  0.640704  0.580154  0.601300  0.680189  0.619322  0.555964   \n",
       "2  0.166753  0.541065  0.442284  0.418231  0.551849  0.446742  0.385239   \n",
       "3  0.252356  0.619311  0.588566  0.547787  0.569659  0.564923  0.583524   \n",
       "4  0.313915  0.727826  0.705622  0.738513  0.750247  0.718389  0.675212   \n",
       "\n",
       "          7         8         9  ...       153       154       155       156  \\\n",
       "0  0.397753  0.549603  0.739099  ...  0.000082  0.000154  0.000076  0.000132   \n",
       "1  0.541476  0.690339  0.787897  ...  0.000192  0.000270  0.000183  0.000243   \n",
       "2  0.432699  0.554014  0.748904  ...  0.000013  0.000013  0.000027  0.000023   \n",
       "3  0.654390  0.730218  0.688710  ...  0.000069  0.000064  0.000059  0.000052   \n",
       "4  0.733604  0.715832  0.698479  ...  0.000714  0.000737  0.000697  0.000676   \n",
       "\n",
       "        157       158       159       160       161  labels  \n",
       "0  0.000095  0.000066  0.000079  0.000029  0.000003       1  \n",
       "1  0.000206  0.000179  0.000196  0.000140  0.000113       1  \n",
       "2  0.000023  0.000039  0.000020  0.000006  0.000001       1  \n",
       "3  0.000033  0.000047  0.000057  0.000026  0.000003       0  \n",
       "4  0.000668  0.000689  0.000699  0.000673  0.000661       0  \n",
       "\n",
       "[5 rows x 163 columns]"
      ]
     },
     "execution_count": 5,
     "metadata": {},
     "output_type": "execute_result"
    }
   ],
   "source": [
    "Features = pd.DataFrame(X)\n",
    "Features['labels'] = Y\n",
    "Features.to_csv('features.csv', index=False)\n",
    "Features.head()"
   ]
  },
  {
   "cell_type": "code",
   "execution_count": 6,
   "id": "aac7a2ff",
   "metadata": {
    "execution": {
     "iopub.execute_input": "2023-10-19T12:37:52.943038Z",
     "iopub.status.busy": "2023-10-19T12:37:52.942736Z",
     "iopub.status.idle": "2023-10-19T12:37:52.951713Z",
     "shell.execute_reply": "2023-10-19T12:37:52.950844Z"
    },
    "papermill": {
     "duration": 0.014353,
     "end_time": "2023-10-19T12:37:52.953317",
     "exception": false,
     "start_time": "2023-10-19T12:37:52.938964",
     "status": "completed"
    },
    "tags": []
   },
   "outputs": [
    {
     "data": {
      "text/plain": [
       "((864, 162), (864,), (288, 162), (288,))"
      ]
     },
     "execution_count": 6,
     "metadata": {},
     "output_type": "execute_result"
    }
   ],
   "source": [
    "X = Features.iloc[: ,:-1].values\n",
    "Y = Features['labels'].values\n",
    "\n",
    "x_train, x_test, y_train, y_test = train_test_split(X, Y, random_state=42, shuffle=True)\n",
    "x_train.shape, y_train.shape, x_test.shape, y_test.shape"
   ]
  },
  {
   "cell_type": "code",
   "execution_count": 7,
   "id": "515e6d76",
   "metadata": {
    "execution": {
     "iopub.execute_input": "2023-10-19T12:37:52.959720Z",
     "iopub.status.busy": "2023-10-19T12:37:52.959275Z",
     "iopub.status.idle": "2023-10-19T12:37:53.752435Z",
     "shell.execute_reply": "2023-10-19T12:37:53.751672Z"
    },
    "papermill": {
     "duration": 0.798557,
     "end_time": "2023-10-19T12:37:53.754389",
     "exception": false,
     "start_time": "2023-10-19T12:37:52.955832",
     "status": "completed"
    },
    "tags": []
   },
   "outputs": [
    {
     "name": "stdout",
     "output_type": "stream",
     "text": [
      "Dumping Done\n"
     ]
    }
   ],
   "source": [
    "model = XGBClassifier()\n",
    "model.fit(x_train , y_train)\n",
    "\n",
    "with open('model.pkl' , 'wb') as model_file : \n",
    "    pickle.dump(model , model_file)\n",
    "    print('Dumping Done')"
   ]
  },
  {
   "cell_type": "code",
   "execution_count": 8,
   "id": "ed0b0d4e",
   "metadata": {
    "execution": {
     "iopub.execute_input": "2023-10-19T12:37:53.762780Z",
     "iopub.status.busy": "2023-10-19T12:37:53.762534Z",
     "iopub.status.idle": "2023-10-19T12:37:53.770253Z",
     "shell.execute_reply": "2023-10-19T12:37:53.769676Z"
    },
    "papermill": {
     "duration": 0.013876,
     "end_time": "2023-10-19T12:37:53.771746",
     "exception": false,
     "start_time": "2023-10-19T12:37:53.757870",
     "status": "completed"
    },
    "tags": []
   },
   "outputs": [],
   "source": [
    "with open('model.pkl' , 'rb') as model_file :\n",
    "    loaded_model = pickle.load(model_file)\n",
    "    \n",
    "y_pred = loaded_model.predict(x_test)"
   ]
  },
  {
   "cell_type": "code",
   "execution_count": 9,
   "id": "5f8e2d57",
   "metadata": {
    "execution": {
     "iopub.execute_input": "2023-10-19T12:37:53.779302Z",
     "iopub.status.busy": "2023-10-19T12:37:53.779075Z",
     "iopub.status.idle": "2023-10-19T12:37:53.788315Z",
     "shell.execute_reply": "2023-10-19T12:37:53.787344Z"
    },
    "papermill": {
     "duration": 0.014918,
     "end_time": "2023-10-19T12:37:53.789940",
     "exception": false,
     "start_time": "2023-10-19T12:37:53.775022",
     "status": "completed"
    },
    "tags": []
   },
   "outputs": [
    {
     "name": "stdout",
     "output_type": "stream",
     "text": [
      "              precision    recall  f1-score   support\n",
      "\n",
      "           0       0.88      0.82      0.85       146\n",
      "           1       0.83      0.88      0.85       142\n",
      "\n",
      "    accuracy                           0.85       288\n",
      "   macro avg       0.85      0.85      0.85       288\n",
      "weighted avg       0.85      0.85      0.85       288\n",
      "\n"
     ]
    }
   ],
   "source": [
    "print(classification_report(y_test , y_pred))"
   ]
  },
  {
   "cell_type": "code",
   "execution_count": 10,
   "id": "759f2b30",
   "metadata": {
    "execution": {
     "iopub.execute_input": "2023-10-19T12:37:53.796396Z",
     "iopub.status.busy": "2023-10-19T12:37:53.795923Z",
     "iopub.status.idle": "2023-10-19T12:37:53.800447Z",
     "shell.execute_reply": "2023-10-19T12:37:53.799681Z"
    },
    "papermill": {
     "duration": 0.009265,
     "end_time": "2023-10-19T12:37:53.801917",
     "exception": false,
     "start_time": "2023-10-19T12:37:53.792652",
     "status": "completed"
    },
    "tags": []
   },
   "outputs": [],
   "source": [
    "def user(audio_file_path) :\n",
    "    extractor = AudioFeatureExtractor()\n",
    "\n",
    "    x = []\n",
    "    for path in (audio_file_path):\n",
    "        features = extractor.get_features(path)\n",
    "        X.extend(features)\n",
    "    \n",
    "    with open('model.pkl' , 'rb') as model_file :\n",
    "        loaded_model = pickle.load(model_file)\n",
    "    \n",
    "    y_pred = loaded_model.predict(X)\n",
    "    \n",
    "    return y_pred "
   ]
  }
 ],
 "metadata": {
  "kernelspec": {
   "display_name": "Python 3",
   "language": "python",
   "name": "python3"
  },
  "language_info": {
   "codemirror_mode": {
    "name": "ipython",
    "version": 3
   },
   "file_extension": ".py",
   "mimetype": "text/x-python",
   "name": "python",
   "nbconvert_exporter": "python",
   "pygments_lexer": "ipython3",
   "version": "3.10.12"
  },
  "papermill": {
   "default_parameters": {},
   "duration": 136.897059,
   "end_time": "2023-10-19T12:37:54.522575",
   "environment_variables": {},
   "exception": null,
   "input_path": "__notebook__.ipynb",
   "output_path": "__notebook__.ipynb",
   "parameters": {},
   "start_time": "2023-10-19T12:35:37.625516",
   "version": "2.4.0"
  }
 },
 "nbformat": 4,
 "nbformat_minor": 5
}
